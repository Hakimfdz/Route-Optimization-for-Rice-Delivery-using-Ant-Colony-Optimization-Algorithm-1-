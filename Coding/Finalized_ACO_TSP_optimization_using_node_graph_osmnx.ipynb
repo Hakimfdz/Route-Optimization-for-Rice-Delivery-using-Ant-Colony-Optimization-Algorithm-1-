{
  "cells": [
    {
      "cell_type": "markdown",
      "metadata": {
        "id": "efJcYRqMZwxk"
      },
      "source": [
        "https://www.codeproject.com/Articles/5328791/Using-OSMnx-for-Graph-Analysis-of-Street-Networks"
      ]
    },
    {
      "cell_type": "code",
      "execution_count": null,
      "metadata": {
        "colab": {
          "base_uri": "https://localhost:8080/",
          "height": 277
        },
        "id": "zBRYncDQL470",
        "outputId": "09ef444a-9036-40fc-c99b-eb559a9d4d1b"
      },
      "outputs": [
        {
          "name": "stdout",
          "output_type": "stream",
          "text": [
            "Looking in indexes: https://pypi.org/simple, https://us-python.pkg.dev/colab-wheels/public/simple/\n",
            "Collecting numpy==1.22\n",
            "  Downloading numpy-1.22.0-cp38-cp38-manylinux_2_17_x86_64.manylinux2014_x86_64.whl (16.8 MB)\n",
            "\u001b[2K     \u001b[90m━━━━━━━━━━━━━━━━━━━━━━━━━━━━━━━━━━━━━━━━\u001b[0m \u001b[32m16.8/16.8 MB\u001b[0m \u001b[31m20.1 MB/s\u001b[0m eta \u001b[36m0:00:00\u001b[0m\n",
            "\u001b[?25hInstalling collected packages: numpy\n",
            "  Attempting uninstall: numpy\n",
            "    Found existing installation: numpy 1.21.6\n",
            "    Uninstalling numpy-1.21.6:\n",
            "      Successfully uninstalled numpy-1.21.6\n",
            "Successfully installed numpy-1.22.0\n"
          ]
        },
        {
          "data": {
            "application/vnd.colab-display-data+json": {
              "pip_warning": {
                "packages": [
                  "numpy"
                ]
              }
            }
          },
          "metadata": {},
          "output_type": "display_data"
        }
      ],
      "source": [
        "!pip install numpy==1.22"
      ]
    },
    {
      "cell_type": "code",
      "execution_count": null,
      "metadata": {
        "colab": {
          "base_uri": "https://localhost:8080/"
        },
        "id": "icXt1xvlZgLT",
        "outputId": "964c119c-946b-46b7-8865-8b23100b6c2f"
      },
      "outputs": [
        {
          "name": "stdout",
          "output_type": "stream",
          "text": [
            "Looking in indexes: https://pypi.org/simple, https://us-python.pkg.dev/colab-wheels/public/simple/\n",
            "Requirement already satisfied: networkx in /usr/local/lib/python3.8/dist-packages (3.0)\n"
          ]
        }
      ],
      "source": [
        "!pip install networkx\n"
      ]
    },
    {
      "cell_type": "code",
      "execution_count": null,
      "metadata": {
        "colab": {
          "background_save": true,
          "base_uri": "https://localhost:8080/"
        },
        "id": "ezZGDViaLfa-",
        "outputId": "8ed75857-80cf-4cc2-b695-aeec5c39994c"
      },
      "outputs": [
        {
          "name": "stdout",
          "output_type": "stream",
          "text": [
            "Selecting previously unselected package libspatialindex6:amd64.\n",
            "(Reading database ... 128126 files and directories currently installed.)\n",
            "Preparing to unpack .../libspatialindex6_1.9.3-1build1_amd64.deb ...\n",
            "Unpacking libspatialindex6:amd64 (1.9.3-1build1) ...\n",
            "Selecting previously unselected package libspatialindex-c6:amd64.\n",
            "Preparing to unpack .../libspatialindex-c6_1.9.3-1build1_amd64.deb ...\n",
            "Unpacking libspatialindex-c6:amd64 (1.9.3-1build1) ...\n",
            "Selecting previously unselected package libspatialindex-dev:amd64.\n",
            "Preparing to unpack .../libspatialindex-dev_1.9.3-1build1_amd64.deb ...\n",
            "Unpacking libspatialindex-dev:amd64 (1.9.3-1build1) ...\n",
            "Setting up libspatialindex6:amd64 (1.9.3-1build1) ...\n",
            "Setting up libspatialindex-c6:amd64 (1.9.3-1build1) ...\n",
            "Setting up libspatialindex-dev:amd64 (1.9.3-1build1) ...\n",
            "Processing triggers for libc-bin (2.31-0ubuntu9.9) ...\n",
            "Looking in indexes: https://pypi.org/simple, https://us-python.pkg.dev/colab-wheels/public/simple/\n",
            "Collecting osmnx\n",
            "  Downloading osmnx-1.2.2-py2.py3-none-any.whl (92 kB)\n",
            "\u001b[2K     \u001b[90m━━━━━━━━━━━━━━━━━━━━━━━━━━━━━━━━━━━━━━━━\u001b[0m \u001b[32m92.5/92.5 KB\u001b[0m \u001b[31m3.1 MB/s\u001b[0m eta \u001b[36m0:00:00\u001b[0m\n",
            "\u001b[?25hRequirement already satisfied: networkx>=2.8 in /usr/local/lib/python3.8/dist-packages (from osmnx) (3.0)\n",
            "Collecting geopandas>=0.11\n",
            "  Downloading geopandas-0.12.2-py3-none-any.whl (1.1 MB)\n",
            "\u001b[2K     \u001b[90m━━━━━━━━━━━━━━━━━━━━━━━━━━━━━━━━━━━━━━━━\u001b[0m \u001b[32m1.1/1.1 MB\u001b[0m \u001b[31m19.4 MB/s\u001b[0m eta \u001b[36m0:00:00\u001b[0m\n",
            "\u001b[?25hRequirement already satisfied: numpy>=1.22 in /usr/local/lib/python3.8/dist-packages (from osmnx) (1.22.0)\n",
            "Collecting pandas>=1.4\n",
            "  Downloading pandas-1.5.3-cp38-cp38-manylinux_2_17_x86_64.manylinux2014_x86_64.whl (12.2 MB)\n",
            "\u001b[2K     \u001b[90m━━━━━━━━━━━━━━━━━━━━━━━━━━━━━━━━━━━━━━━━\u001b[0m \u001b[32m12.2/12.2 MB\u001b[0m \u001b[31m49.9 MB/s\u001b[0m eta \u001b[36m0:00:00\u001b[0m\n",
            "\u001b[?25hCollecting Shapely<2.0,>=1.8\n",
            "  Downloading Shapely-1.8.5.post1-cp38-cp38-manylinux_2_12_x86_64.manylinux2010_x86_64.whl (2.1 MB)\n",
            "\u001b[2K     \u001b[90m━━━━━━━━━━━━━━━━━━━━━━━━━━━━━━━━━━━━━━━━\u001b[0m \u001b[32m2.1/2.1 MB\u001b[0m \u001b[31m83.1 MB/s\u001b[0m eta \u001b[36m0:00:00\u001b[0m\n",
            "\u001b[?25hCollecting matplotlib>=3.5\n",
            "  Downloading matplotlib-3.7.0-cp38-cp38-manylinux_2_12_x86_64.manylinux2010_x86_64.whl (9.2 MB)\n",
            "\u001b[2K     \u001b[90m━━━━━━━━━━━━━━━━━━━━━━━━━━━━━━━━━━━━━━━━\u001b[0m \u001b[32m9.2/9.2 MB\u001b[0m \u001b[31m92.7 MB/s\u001b[0m eta \u001b[36m0:00:00\u001b[0m\n",
            "\u001b[?25hCollecting Rtree>=1.0\n",
            "  Downloading Rtree-1.0.1-cp38-cp38-manylinux_2_17_x86_64.manylinux2014_x86_64.whl (1.0 MB)\n",
            "\u001b[2K     \u001b[90m━━━━━━━━━━━━━━━━━━━━━━━━━━━━━━━━━━━━━━━━\u001b[0m \u001b[32m1.0/1.0 MB\u001b[0m \u001b[31m61.1 MB/s\u001b[0m eta \u001b[36m0:00:00\u001b[0m\n",
            "\u001b[?25hCollecting requests>=2.28\n",
            "  Downloading requests-2.28.2-py3-none-any.whl (62 kB)\n",
            "\u001b[2K     \u001b[90m━━━━━━━━━━━━━━━━━━━━━━━━━━━━━━━━━━━━━━━━\u001b[0m \u001b[32m62.8/62.8 KB\u001b[0m \u001b[31m7.2 MB/s\u001b[0m eta \u001b[36m0:00:00\u001b[0m\n",
            "\u001b[?25hCollecting pyproj>=3.3\n",
            "  Downloading pyproj-3.4.1-cp38-cp38-manylinux_2_17_x86_64.manylinux2014_x86_64.whl (7.8 MB)\n",
            "\u001b[2K     \u001b[90m━━━━━━━━━━━━━━━━━━━━━━━━━━━━━━━━━━━━━━━━\u001b[0m \u001b[32m7.8/7.8 MB\u001b[0m \u001b[31m78.8 MB/s\u001b[0m eta \u001b[36m0:00:00\u001b[0m\n",
            "\u001b[?25hRequirement already satisfied: packaging in /usr/local/lib/python3.8/dist-packages (from geopandas>=0.11->osmnx) (23.0)\n",
            "Collecting fiona>=1.8\n",
            "  Downloading Fiona-1.9.1-cp38-cp38-manylinux_2_17_x86_64.manylinux2014_x86_64.whl (16.0 MB)\n",
            "\u001b[2K     \u001b[90m━━━━━━━━━━━━━━━━━━━━━━━━━━━━━━━━━━━━━━━━\u001b[0m \u001b[32m16.0/16.0 MB\u001b[0m \u001b[31m58.0 MB/s\u001b[0m eta \u001b[36m0:00:00\u001b[0m\n",
            "\u001b[?25hRequirement already satisfied: pillow>=6.2.0 in /usr/local/lib/python3.8/dist-packages (from matplotlib>=3.5->osmnx) (7.1.2)\n",
            "Requirement already satisfied: importlib-resources>=3.2.0 in /usr/local/lib/python3.8/dist-packages (from matplotlib>=3.5->osmnx) (5.10.2)\n",
            "Requirement already satisfied: pyparsing>=2.3.1 in /usr/local/lib/python3.8/dist-packages (from matplotlib>=3.5->osmnx) (3.0.9)\n",
            "Requirement already satisfied: cycler>=0.10 in /usr/local/lib/python3.8/dist-packages (from matplotlib>=3.5->osmnx) (0.11.0)\n",
            "Collecting contourpy>=1.0.1\n",
            "  Downloading contourpy-1.0.7-cp38-cp38-manylinux_2_17_x86_64.manylinux2014_x86_64.whl (300 kB)\n",
            "\u001b[2K     \u001b[90m━━━━━━━━━━━━━━━━━━━━━━━━━━━━━━━━━━━━━━\u001b[0m \u001b[32m300.0/300.0 KB\u001b[0m \u001b[31m23.3 MB/s\u001b[0m eta \u001b[36m0:00:00\u001b[0m\n",
            "\u001b[?25hRequirement already satisfied: kiwisolver>=1.0.1 in /usr/local/lib/python3.8/dist-packages (from matplotlib>=3.5->osmnx) (1.4.4)\n",
            "Collecting fonttools>=4.22.0\n",
            "  Downloading fonttools-4.38.0-py3-none-any.whl (965 kB)\n",
            "\u001b[2K     \u001b[90m━━━━━━━━━━━━━━━━━━━━━━━━━━━━━━━━━━━━━━━\u001b[0m \u001b[32m965.4/965.4 KB\u001b[0m \u001b[31m4.6 MB/s\u001b[0m eta \u001b[36m0:00:00\u001b[0m\n",
            "\u001b[?25hRequirement already satisfied: python-dateutil>=2.7 in /usr/local/lib/python3.8/dist-packages (from matplotlib>=3.5->osmnx) (2.8.2)\n",
            "Requirement already satisfied: pytz>=2020.1 in /usr/local/lib/python3.8/dist-packages (from pandas>=1.4->osmnx) (2022.7.1)\n",
            "Requirement already satisfied: certifi in /usr/local/lib/python3.8/dist-packages (from pyproj>=3.3->osmnx) (2022.12.7)\n",
            "Requirement already satisfied: charset-normalizer<4,>=2 in /usr/local/lib/python3.8/dist-packages (from requests>=2.28->osmnx) (3.0.1)\n",
            "Requirement already satisfied: idna<4,>=2.5 in /usr/local/lib/python3.8/dist-packages (from requests>=2.28->osmnx) (2.10)\n",
            "Requirement already satisfied: urllib3<1.27,>=1.21.1 in /usr/local/lib/python3.8/dist-packages (from requests>=2.28->osmnx) (1.24.3)\n",
            "Collecting click~=8.0\n",
            "  Downloading click-8.1.3-py3-none-any.whl (96 kB)\n",
            "\u001b[2K     \u001b[90m━━━━━━━━━━━━━━━━━━━━━━━━━━━━━━━━━━━━━━━━\u001b[0m \u001b[32m96.6/96.6 KB\u001b[0m \u001b[31m10.1 MB/s\u001b[0m eta \u001b[36m0:00:00\u001b[0m\n",
            "\u001b[?25hCollecting click-plugins>=1.0\n",
            "  Downloading click_plugins-1.1.1-py2.py3-none-any.whl (7.5 kB)\n",
            "Collecting munch>=2.3.2\n",
            "  Downloading munch-2.5.0-py2.py3-none-any.whl (10 kB)\n",
            "Requirement already satisfied: setuptools in /usr/local/lib/python3.8/dist-packages (from fiona>=1.8->geopandas>=0.11->osmnx) (57.4.0)\n",
            "Requirement already satisfied: attrs>=19.2.0 in /usr/local/lib/python3.8/dist-packages (from fiona>=1.8->geopandas>=0.11->osmnx) (22.2.0)\n",
            "Collecting cligj>=0.5\n",
            "  Downloading cligj-0.7.2-py3-none-any.whl (7.1 kB)\n",
            "Requirement already satisfied: zipp>=3.1.0 in /usr/local/lib/python3.8/dist-packages (from importlib-resources>=3.2.0->matplotlib>=3.5->osmnx) (3.13.0)\n",
            "Requirement already satisfied: six>=1.5 in /usr/local/lib/python3.8/dist-packages (from python-dateutil>=2.7->matplotlib>=3.5->osmnx) (1.15.0)\n",
            "Installing collected packages: Shapely, Rtree, requests, pyproj, munch, fonttools, contourpy, click, pandas, matplotlib, cligj, click-plugins, fiona, geopandas, osmnx\n",
            "  Attempting uninstall: Shapely\n",
            "    Found existing installation: shapely 2.0.1\n",
            "    Uninstalling shapely-2.0.1:\n",
            "      Successfully uninstalled shapely-2.0.1\n",
            "  Attempting uninstall: requests\n",
            "    Found existing installation: requests 2.25.1\n",
            "    Uninstalling requests-2.25.1:\n",
            "      Successfully uninstalled requests-2.25.1\n",
            "  Attempting uninstall: click\n",
            "    Found existing installation: click 7.1.2\n",
            "    Uninstalling click-7.1.2:\n",
            "      Successfully uninstalled click-7.1.2\n",
            "  Attempting uninstall: pandas\n",
            "    Found existing installation: pandas 1.3.5\n",
            "    Uninstalling pandas-1.3.5:\n",
            "      Successfully uninstalled pandas-1.3.5\n",
            "  Attempting uninstall: matplotlib\n",
            "    Found existing installation: matplotlib 3.2.2\n",
            "    Uninstalling matplotlib-3.2.2:\n",
            "      Successfully uninstalled matplotlib-3.2.2\n",
            "\u001b[31mERROR: pip's dependency resolver does not currently take into account all the packages that are installed. This behaviour is the source of the following dependency conflicts.\n",
            "flask 1.1.4 requires click<8.0,>=5.1, but you have click 8.1.3 which is incompatible.\u001b[0m\u001b[31m\n",
            "\u001b[0mSuccessfully installed Rtree-1.0.1 Shapely-1.8.5.post1 click-8.1.3 click-plugins-1.1.1 cligj-0.7.2 contourpy-1.0.7 fiona-1.9.1 fonttools-4.38.0 geopandas-0.12.2 matplotlib-3.7.0 munch-2.5.0 osmnx-1.2.2 pandas-1.5.3 pyproj-3.4.1 requests-2.28.2\n"
          ]
        }
      ],
      "source": [
        "!apt-get -qq install libspatialindex-dev\n",
        "!pip install osmnx\n"
      ]
    },
    {
      "cell_type": "code",
      "execution_count": null,
      "metadata": {
        "colab": {
          "background_save": true
        },
        "id": "GJDB7Ap6Pjsq"
      },
      "outputs": [],
      "source": [
        "import cProfile\n",
        "import networkx as nx\n",
        "import numpy as np\n",
        "import osmnx as ox"
      ]
    },
    {
      "cell_type": "markdown",
      "metadata": {
        "id": "iTU7qcEPPlDs"
      },
      "source": [
        "The cProfile module is a built-in profiling tool in Python that allows you to identify the parts of your code that are taking the most time to execute. Here's how to use it:\n"
      ]
    },
    {
      "cell_type": "code",
      "execution_count": null,
      "metadata": {
        "id": "VGKLwypzvDqq"
      },
      "outputs": [],
      "source": [
        "!pip uninstall matplotlib\n",
        "!pip install matplotlib"
      ]
    },
    {
      "cell_type": "code",
      "execution_count": null,
      "metadata": {
        "id": "NdetXUNXq-gC"
      },
      "outputs": [],
      "source": [
        "\n",
        "# Define the polygon for Seksyen 7, Shah Alam\n",
        "polygon = ox.geocode_to_gdf('Seksyen 7, Shah Alam').geometry.iloc[0]\n",
        "\n",
        "# Create the graph using the polygon as the boundary\n",
        "nf_sek7 = ox.graph_from_polygon(polygon, network_type='drive', simplify=True)\n",
        "\n",
        "# Plot the graph to visualize the nodes and edges\n",
        "ox.plot_graph(nf_sek7, figsize=(15,15), node_size=3, node_color='r', edge_color='b', edge_linewidth=0.2, bgcolor='white')\n"
      ]
    },
    {
      "cell_type": "code",
      "execution_count": null,
      "metadata": {
        "id": "SBENY25YZlTw"
      },
      "outputs": [],
      "source": [
        "# Define the best path nodes (assuming the same example as before)\n",
        "best_path = []\n",
        "best_path_nodes = [node[0] for node in best_path]\n",
        "\n",
        "# Set the node and edge colors for the plot\n",
        "node_colors = ['r' if node in best_path_nodes else 'gray' for node in nf_sek7.nodes()]\n",
        "edge_colors = ['r' if u in best_path_nodes and v in best_path_nodes else 'gray' for u, v in nf_sek7.edges()]\n",
        "\n",
        "# Plot the graph with the best path highlighted\n",
        "fig, ax = ox.plot_graph(nf_sek7, figsize=(15, 15), node_size=10, node_color=node_colors, edge_color=edge_colors, edge_linewidth=0.2, bgcolor='white')\n",
        "\n",
        "# Add a title and legend\n",
        "ax.set_title('Seksyen 7, Shah Alam with Best Path Highlighted', fontsize=16)\n",
        "ax.scatter([],[], c='r', marker='o', label='Best Path')\n",
        "ax.scatter([],[], c='gray', marker='o', label='Other Nodes')\n",
        "ax.legend(scatterpoints=1, frameon=False, labelspacing=1, loc='upper right')\n"
      ]
    },
    {
      "cell_type": "code",
      "execution_count": null,
      "metadata": {
        "colab": {
          "base_uri": "https://localhost:8080/"
        },
        "id": "HS6HEToUeFR5",
        "outputId": "096ba923-b58e-438d-f1f1-e48df86ffbe2"
      },
      "outputs": [
        {
          "name": "stdout",
          "output_type": "stream",
          "text": [
            "Epoch 0: new best path found with cost 3634.1179999999995\n",
            "Epoch 1: new best path found with cost 2247.619\n",
            "Epoch 4: new best path found with cost 1464.852\n"
          ]
        },
        {
          "data": {
            "text/plain": [
              "([[1802371163],\n",
              "  [1802371163, 1802371446, 1802371181, 1802371165],\n",
              "  [1802371163, 1802371446, 1802371444],\n",
              "  [1802371163, 1802371446, 1802371181, 1802371165],\n",
              "  [1802371163],\n",
              "  [1802371163],\n",
              "  [1802371163],\n",
              "  [1802371163],\n",
              "  [1802371163],\n",
              "  [1802371163, 1802371446, 1802371444],\n",
              "  [1802371163],\n",
              "  [1802371163],\n",
              "  [1802371163, 1802371176, 1802371177],\n",
              "  [1802371163],\n",
              "  [1802371163],\n",
              "  [1802371163],\n",
              "  [1802371163],\n",
              "  [1802371163],\n",
              "  [1802371163],\n",
              "  [1802371163],\n",
              "  [1802371163],\n",
              "  [1802371163],\n",
              "  [1802371163],\n",
              "  [1802371163],\n",
              "  [1802371163, 1802371176, 1802371177, 1802371172],\n",
              "  [1802371163],\n",
              "  [1802371163],\n",
              "  [1802371163],\n",
              "  [1802371163],\n",
              "  [1802371163, 1802371446, 1802371181],\n",
              "  [1802371163],\n",
              "  [1802371163],\n",
              "  [1802371163],\n",
              "  [1802371163],\n",
              "  [1802371163, 1802371446, 1802371444],\n",
              "  [1802371163],\n",
              "  [1802371163],\n",
              "  [1802371163],\n",
              "  [1802371163],\n",
              "  [1802371163],\n",
              "  [1802371163],\n",
              "  [1802371163],\n",
              "  [1802371163],\n",
              "  [1802371163],\n",
              "  [1802371163],\n",
              "  [1802371163],\n",
              "  [1802371163],\n",
              "  [1802371163],\n",
              "  [1802371163, 1802371446, 1802371444],\n",
              "  [1802371163]],\n",
              " 1464.852)"
            ]
          },
          "execution_count": 65,
          "metadata": {},
          "output_type": "execute_result"
        }
      ],
      "source": [
        "aco_algorithm_epochs2(nf_sek7, start_node, end_node, num_ants, num_epochs, num_iterations, alpha, beta, evaporation_rate, q)\n"
      ]
    },
    {
      "cell_type": "code",
      "execution_count": null,
      "metadata": {
        "colab": {
          "base_uri": "https://localhost:8080/"
        },
        "id": "sEr20tJjd9IX",
        "outputId": "c84e0bdc-9a14-4d20-b9de-c5f8fd5c60e4"
      },
      "outputs": [
        {
          "name": "stdout",
          "output_type": "stream",
          "text": [
            "Epoch 0: new best path found with cost 3538.1519999999996\n",
            "Epoch 1: new best path found with cost 2934.9909999999995\n",
            "Epoch 2: new best path found with cost 2247.9539999999997\n",
            "Epoch 6: new best path found with cost 1397.7540000000001\n"
          ]
        },
        {
          "data": {
            "text/plain": [
              "([[1802371163],\n",
              "  [1802371163],\n",
              "  [1802371163],\n",
              "  [1802371163],\n",
              "  [1802371163],\n",
              "  [1802371163],\n",
              "  [1802371163],\n",
              "  [1802371163],\n",
              "  [1802371163],\n",
              "  [1802371163, 1802371446, 1802371444],\n",
              "  [1802371163],\n",
              "  [1802371163],\n",
              "  [1802371163],\n",
              "  [1802371163, 1802371446, 1802371181],\n",
              "  [1802371163],\n",
              "  [1802371163],\n",
              "  [1802371163],\n",
              "  [1802371163],\n",
              "  [1802371163],\n",
              "  [1802371163],\n",
              "  [1802371163],\n",
              "  [1802371163],\n",
              "  [1802371163],\n",
              "  [1802371163, 1802371176, 1802371177],\n",
              "  [1802371163],\n",
              "  [1802371163],\n",
              "  [1802371163],\n",
              "  [1802371163],\n",
              "  [1802371163],\n",
              "  [1802371163, 1802371446, 1802371444],\n",
              "  [1802371163],\n",
              "  [1802371163, 1802371446, 1802371444],\n",
              "  [1802371163],\n",
              "  [1802371163],\n",
              "  [1802371163],\n",
              "  [1802371163, 1802371446, 1802371444],\n",
              "  [1802371163],\n",
              "  [1802371163, 1802371176, 1802371177],\n",
              "  [1802371163],\n",
              "  [1802371163, 1802371176, 1802371177],\n",
              "  [1802371163],\n",
              "  [1802371163],\n",
              "  [1802371163, 1802371176, 1802371177, 1802371172],\n",
              "  [1802371163],\n",
              "  [1802371163],\n",
              "  [1802371163],\n",
              "  [1802371163],\n",
              "  [1802371163],\n",
              "  [1802371163],\n",
              "  [1802371163]],\n",
              " 1397.7540000000001)"
            ]
          },
          "execution_count": 62,
          "metadata": {},
          "output_type": "execute_result"
        }
      ],
      "source": [
        "aco_algorithm_epochs2(nf_sek7, start_node, end_node, num_ants, num_epochs, num_iterations, alpha, beta, evaporation_rate, q)\n"
      ]
    },
    {
      "cell_type": "code",
      "execution_count": null,
      "metadata": {
        "id": "ND5BUrjRXH7v"
      },
      "outputs": [],
      "source": [
        "def aco_algorithm_epochs2(G, start_node, end_node, num_ants, num_epochs, num_iterations, alpha, beta, evaporation_rate, q):\n",
        "    \n",
        "    # Check if start_node and end_node are in the graph\n",
        "    if start_node not in G.nodes:\n",
        "        raise ValueError(f\"Start node {start_node} is not in the graph.\")\n",
        "    if end_node not in G.nodes:\n",
        "        raise ValueError(f\"End node {end_node} is not in the graph.\")\n",
        "\n",
        "    # Initialize pheromone levels on all edges\n",
        "    for u, v, key, data in G.edges(keys=True, data=True):\n",
        "        data['pheromone'] = 1\n",
        "\n",
        "    # Loop over the specified number of epochs\n",
        "    best_path = None\n",
        "    best_cost = float('inf')\n",
        "    for epoch in range(num_epochs):\n",
        "        # Initialize ant positions to the start node\n",
        "        ant_positions = [start_node] * num_ants\n",
        "        epoch_best_path = None\n",
        "        epoch_best_cost = float('inf')\n",
        "        \n",
        "        # Loop over the specified number of iterations for each epoch\n",
        "        for iteration in range(num_iterations):\n",
        "            # Move each ant to a new node according to the pheromone levels\n",
        "            for ant in range(num_ants):\n",
        "                current_node = ant_positions[ant]\n",
        "                candidate_nodes = list(G[current_node])\n",
        "                candidate_pheromones = [G[current_node][next_node][0].get('pheromone', 1) for next_node in candidate_nodes]\n",
        "                candidate_probabilities = [pheromone ** alpha * (1 / G[current_node][next_node][0].get('length', 1)) ** beta for pheromone, next_node in zip(candidate_pheromones, candidate_nodes)]\n",
        "                total_probability = sum(candidate_probabilities)\n",
        "                candidate_probabilities = [probability / total_probability for probability in candidate_probabilities]\n",
        "                next_node = np.random.choice(candidate_nodes, p=candidate_probabilities)\n",
        "                ant_positions[ant] = next_node\n",
        "\n",
        "            # Check if any ant has found a shorter path than the current epoch best path\n",
        "            path = []\n",
        "            cost = 0\n",
        "            for ant in range(num_ants):\n",
        "                ant_path = nx.shortest_path(G, start_node, ant_positions[ant], weight='length')\n",
        "                ant_cost = nx.shortest_path_length(G, start_node, ant_positions[ant], weight='length')\n",
        "                path.append(ant_path)\n",
        "                cost += ant_cost\n",
        "                # Update pheromone levels on edges in the ant's path\n",
        "                for u, v in zip(ant_path, ant_path[1:]):\n",
        "                    data = G[u][v][0]\n",
        "                    data['pheromone'] = (1 - evaporation_rate) * data.get('pheromone', 1) + q / ant_cost\n",
        "\n",
        "            if cost < epoch_best_cost:\n",
        "                epoch_best_path = path\n",
        "                epoch_best_cost = cost\n",
        "\n",
        "        # Check if the epoch best path is better than the global best path\n",
        "        if epoch_best_cost < best_cost:\n",
        "            best_path = epoch_best_path\n",
        "            best_cost = epoch_best_cost\n",
        "            print(f\"Epoch {epoch}: new best path found with cost {best_cost}\")\n",
        "\n",
        "    return best_path, best_cost\n"
      ]
    },
    {
      "cell_type": "code",
      "execution_count": null,
      "metadata": {
        "colab": {
          "base_uri": "https://localhost:8080/"
        },
        "id": "YjpbtBCDCTMj",
        "outputId": "b3f78da0-dd22-41a1-9a1d-7209587d895e"
      },
      "outputs": [
        {
          "name": "stdout",
          "output_type": "stream",
          "text": [
            "4022197983\n"
          ]
        }
      ],
      "source": [
        "# Find the nearest node to the coordinate\n",
        "nearest_node = ox.distance.nearest_nodes(nf_sek7,3.074192197659392, 101.48583147374983)\n",
        "\n",
        "print(nearest_node)\n"
      ]
    },
    {
      "cell_type": "markdown",
      "metadata": {
        "id": "PSJWina37vbL"
      },
      "source": [
        "prototyping nak check the nearest node"
      ]
    },
    {
      "cell_type": "code",
      "execution_count": null,
      "metadata": {
        "colab": {
          "base_uri": "https://localhost:8080/"
        },
        "id": "idIvu4PcUkEc",
        "outputId": "216e1974-4c7b-4b11-d248-5dfd5d234874"
      },
      "outputs": [
        {
          "name": "stdout",
          "output_type": "stream",
          "text": [
            "Start node: 1802371163\n",
            "End node: 256821511\n"
          ]
        }
      ],
      "source": [
        "print(f\"Start node: {start_node}\")\n",
        "print(f\"End node: {end_node}\")\n"
      ]
    },
    {
      "cell_type": "markdown",
      "metadata": {
        "id": "kiPzpTEn6k7Q"
      },
      "source": [
        "Bagitau the start and end node"
      ]
    },
    {
      "cell_type": "code",
      "execution_count": null,
      "metadata": {
        "colab": {
          "base_uri": "https://localhost:8080/"
        },
        "id": "MVCpQPN6autE",
        "outputId": "4d9269f5-a04c-4d0c-8bbb-a752906d5337"
      },
      "outputs": [
        {
          "name": "stdout",
          "output_type": "stream",
          "text": [
            "All good\n"
          ]
        }
      ],
      "source": [
        "if start_node not in nf_sek7.nodes:\n",
        "    raise ValueError(f\"Start node {start_node} is not in the graph.\")\n",
        "if end_node not in nf_sek7.nodes:\n",
        "    raise ValueError(f\"End node {end_node} is not in the graph.\")\n",
        "else:\n",
        "    print(f\"All good\")"
      ]
    },
    {
      "cell_type": "markdown",
      "metadata": {
        "id": "4Rbg3KWx7qZ6"
      },
      "source": [
        "check if node tu ade dalam node graph ke"
      ]
    },
    {
      "cell_type": "code",
      "execution_count": null,
      "metadata": {
        "id": "XAt0IpEe27Qg"
      },
      "outputs": [],
      "source": [
        "#start and ending location # ni kena set sendiri tengok x and y coordinate through the excel file\n",
        "origin= 1802371163  #101.4834158,3.0741733\n",
        "location= 256821511    #101.4866602, 3.074252\n",
        "start_node = origin\n",
        "end_node = location \n",
        "\n",
        "\n",
        "#parameter tuning\n",
        "num_iterations=4\n",
        "num_ants=50\n",
        "num_epochs=10\n",
        "alpha=0.3\n",
        "beta=2\n",
        "evaporation_rate=0.3\n",
        "q=0.5\n"
      ]
    },
    {
      "cell_type": "code",
      "execution_count": null,
      "metadata": {
        "colab": {
          "base_uri": "https://localhost:8080/"
        },
        "id": "cjhHKjLR2vIx",
        "outputId": "a364c35a-be9d-4547-8b55-5860103cf66a"
      },
      "outputs": [
        {
          "name": "stdout",
          "output_type": "stream",
          "text": [
            "Epoch 0: new best path found with cost 3641.434000000001\n",
            "Epoch 1: new best path found with cost 2814.932\n",
            "Epoch 3: new best path found with cost 1324.384\n"
          ]
        },
        {
          "data": {
            "text/plain": [
              "([[1802371163],\n",
              "  [1802371163],\n",
              "  [1802371163],\n",
              "  [1802371163],\n",
              "  [1802371163],\n",
              "  [1802371163, 1802371446, 1802371181],\n",
              "  [1802371163, 1802371446, 1802371444],\n",
              "  [1802371163],\n",
              "  [1802371163],\n",
              "  [1802371163],\n",
              "  [1802371163, 1802371164, 5903121679],\n",
              "  [1802371163],\n",
              "  [1802371163],\n",
              "  [1802371163],\n",
              "  [1802371163],\n",
              "  [1802371163],\n",
              "  [1802371163],\n",
              "  [1802371163],\n",
              "  [1802371163],\n",
              "  [1802371163],\n",
              "  [1802371163, 1802371446, 1802371444],\n",
              "  [1802371163],\n",
              "  [1802371163],\n",
              "  [1802371163],\n",
              "  [1802371163],\n",
              "  [1802371163],\n",
              "  [1802371163],\n",
              "  [1802371163],\n",
              "  [1802371163],\n",
              "  [1802371163, 1802371164, 5903121679],\n",
              "  [1802371163],\n",
              "  [1802371163],\n",
              "  [1802371163],\n",
              "  [1802371163],\n",
              "  [1802371163, 1802371176, 1802371177, 1802371172],\n",
              "  [1802371163],\n",
              "  [1802371163],\n",
              "  [1802371163],\n",
              "  [1802371163],\n",
              "  [1802371163],\n",
              "  [1802371163],\n",
              "  [1802371163],\n",
              "  [1802371163, 1802371176, 1802371177, 1802371172],\n",
              "  [1802371163],\n",
              "  [1802371163],\n",
              "  [1802371163],\n",
              "  [1802371163],\n",
              "  [1802371163, 1802371446, 1802371181],\n",
              "  [1802371163],\n",
              "  [1802371163]],\n",
              " 1324.384)"
            ]
          },
          "execution_count": 60,
          "metadata": {},
          "output_type": "execute_result"
        }
      ],
      "source": [
        "aco_algorithm_epochs2(nf_sek7, start_node, end_node, num_ants, num_epochs, num_iterations, alpha, beta, evaporation_rate, q)\n"
      ]
    }
  ],
  "metadata": {
    "colab": {
      "provenance": []
    },
    "gpuClass": "standard",
    "kernelspec": {
      "display_name": "Python 3",
      "name": "python3"
    },
    "language_info": {
      "name": "python"
    }
  },
  "nbformat": 4,
  "nbformat_minor": 0
}